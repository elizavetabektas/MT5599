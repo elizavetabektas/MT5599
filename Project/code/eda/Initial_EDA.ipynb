{
 "cells": [
  {
   "cell_type": "markdown",
   "metadata": {},
   "source": [
    "# EDA\n",
    "The aim of this notebook is to figure out:\n",
    "\n",
    "- How to collect raw tweets (with geolocation, handles, hashtags, mentions)\n",
    "- Which people live in Argentina (maybe through user locations)\n",
    "- How to track their movements over time\n",
    "- How long to track their movements over time"
   ]
  },
  {
   "cell_type": "code",
   "execution_count": null,
   "metadata": {},
   "outputs": [],
   "source": [
    "import pandas as pd # for dataframes\n",
    "#import json\n",
    "import snscrape.modules.twitter as sntwitter\n",
    "from _datetime import datetime, timedelta\n",
    "#from multiprocessing import Pool\n",
    "#import tqdm # for progress bar\n",
    "import pytz # for current time\n",
    "import pandas as pd\n",
    "#import itertools"
   ]
  },
  {
   "cell_type": "code",
   "execution_count": null,
   "metadata": {},
   "outputs": [],
   "source": [
    "# set datetime parameters for scraping tweets\n",
    "\n",
    "now = datetime.now().replace(tzinfo=pytz.utc)\n",
    "start_date = (now - timedelta(days=1)).strftime('%Y-%m-%d')\n",
    "end_date = (now + timedelta(days=1)).strftime('%Y-%m-%d')\n",
    "date_window = str(start_date) + \"-\" + str(end_date)\n",
    "scraper = sntwitter.TwitterSearchScraper"
   ]
  },
  {
   "cell_type": "code",
   "execution_count": null,
   "metadata": {},
   "outputs": [],
   "source": [
    "# the data that currently is in Equinor/data/input_data/argentina_daily_tweets.csv is df\n",
    "# this was done on 27.09.2022 for 1 day, and yielded 300k+ tweets\n",
    "\n",
    "df = pd.DataFrame(scraper(f'near:Argentina within:10km since:{start_date} until:{end_date}').get_items())\n",
    "print(df)"
   ]
  },
  {
   "cell_type": "code",
   "execution_count": null,
   "metadata": {},
   "outputs": [],
   "source": [
    "# creating a new dataframe so we don't mess up the original\n",
    "# putting in extra columns with user information\n",
    "\n",
    "df_coord = df\n",
    "df_coord['user_username'] =  df_coord['user'].apply(lambda x: x['username'])\n",
    "df_coord['user_id'] =  df_coord['user'].apply(lambda x: x['id'])\n",
    "df_coord['user_verified'] =  df_coord['user'].apply(lambda x: x['verified'])\n",
    "df_coord['user_created'] =  df_coord['user'].apply(lambda x: x['created'])\n",
    "df_coord['user_location'] =  df_coord['user'].apply(lambda x: x['location'])\n",
    "df_coord['user_followers_count'] = df_coord['user'].apply(lambda x: x['followersCount'])\n",
    "df_coord['user_friends_count'] = df_coord['user'].apply(lambda x: x['friendsCount'])\n",
    "df_coord['user_statuses_count'] = df_coord['user'].apply(lambda x: x['statusesCount'])\n",
    "df_coord['user_favourites_count'] =  df_coord['user'].apply(lambda x: x['favouritesCount'])\n",
    "df_coord['user_listed_count'] =  df_coord['user'].apply(lambda x: x['listedCount'])\n",
    "df_coord['user_media_count'] =  df_coord['user'].apply(lambda x: x['mediaCount'])\n",
    "df_coord['user_protected'] = df_coord['user'].apply(lambda x: x['protected'])\n",
    "df_coord['user_label'] =  df_coord['user'].apply(lambda x: x['label'])\n",
    "\n",
    "# saved this to \n",
    "df_coord.to_csv('../../../Equinor/data/input_data/argentina_modified_daily_tweets.csv', index=False)"
   ]
  },
  {
   "cell_type": "code",
   "execution_count": null,
   "metadata": {},
   "outputs": [],
   "source": [
    "# exploring the data found\n",
    "df.user_username.value_counts(dropna=False) # not too many from each, which is good\n",
    "df.user_location.value_counts(dropna=False) # mostly argentina, with a few more specific locations within argentina; needs filtered\n",
    "df.user_verified.value_counts(dropna=False) # as expected, most are unverified"
   ]
  },
  {
   "cell_type": "code",
   "execution_count": null,
   "metadata": {},
   "outputs": [],
   "source": [
    "# to be done next time for more precision\n",
    "df2 = pd.DataFrame(scraper(f'geocode:-31.416668,-64.183334,10km since:{start_date} until:{end_date}').get_items())\n",
    "print(df2)"
   ]
  }
 ],
 "metadata": {
  "kernelspec": {
   "display_name": "Python 3.10.6 64-bit ('3.10.6')",
   "language": "python",
   "name": "python3"
  },
  "language_info": {
   "name": "python",
   "version": "3.10.6"
  },
  "orig_nbformat": 4,
  "vscode": {
   "interpreter": {
    "hash": "9a11b98ac9af4af49d77030aa9beed0ed7213c2aa1418ac50762ea31515f5c5f"
   }
  }
 },
 "nbformat": 4,
 "nbformat_minor": 2
}
